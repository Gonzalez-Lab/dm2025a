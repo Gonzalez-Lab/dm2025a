{
 "cells": [
  {
   "cell_type": "markdown",
   "metadata": {
    "id": "5DrvzQ9BsXmX"
   },
   "source": [
    "# 3 Optimización de Hiperpárametros"
   ]
  },
  {
   "cell_type": "markdown",
   "metadata": {
    "id": "ChXVnCOOuqOu"
   },
   "source": [
    "## 3.01 Introduccion\n",
    "En general los algoritmos que generan modelos predictivos poseen hiperparámetros que *dado un dataset* deben ser optimizados.\n",
    "<br> La invocación de uno de esos algoritmos sin hiperparámetros no es más que\n",
    "invocarlos con hiperparámetros por default definidos por el fabricante. Por ejemplo en el caso de la librería **rpart** es cp=0.01, maxdepth=30, minsplit=20, minbucket=6,  lo que en nuestro dataset genera un arbol de un solo nodo (decimos \"no se abre el arbol\"); la razon de esto es la proporcion de \"BAJA+1\" y \"BAJA+2\""
   ]
  },
  {
   "cell_type": "markdown",
   "metadata": {
    "id": "kXI3gt3iwNzg"
   },
   "source": [
    "En el primer notebook de la asignatura usted probó optimizar manualmente los hiperparámetros entrenando en un mes completo y viendo los resultados directamente en el Public Leaderboard, que es una porción de los datos de futuro.\n",
    "<br> En el mundo real no se dispone jamás de la clase del futuro, con lo cual lo anterior es meramente un artifical divertimento.\n",
    "<br> La solución es estimar la bondad de un set de hiperparámetros en alguna combinación de:\n",
    "  * Una sola partición de  <training, testing>\n",
    "  * Multiples particiones de <training, testing>\n",
    "  * El método de  k-fold Cross Validation , generalmente con n>=5\n",
    "  * Utilizar   n-repated  k-fold Cross Validation\n",
    "  * Leave One Out  si la cardinalidad del dataset y el poder de cómputo se lo permiten"
   ]
  },
  {
   "cell_type": "markdown",
   "metadata": {
    "id": "Max6K39SxSRc"
   },
   "source": [
    "Luego de comenzar a trabajar con el método de  \"Multiples particiones de <training, testing>  se le invitó a extender un esqueleto de código del método de **Optimización de Hiperparámetros por Grid Search**"
   ]
  },
  {
   "cell_type": "markdown",
   "metadata": {
    "id": "V0uWfedQ0CgK"
   },
   "source": [
    "## 3.02 Conceptos\n",
    "\n",
    "En esta entrega veremos los siguiente conceptos:\n",
    "* El origen del overfitting en un arbol de decisión\n",
    "* *La maldición del ganador*, overfitting en los hiperparámetros ganadores, Selective Inference\n",
    "* Data Drifting\n",
    "* Alterntivas de búsqueda\n",
    "  * Grid Search, la fuerza bruta\n",
    "  * Bayesian Optimization, la heurística"
   ]
  },
  {
   "cell_type": "markdown",
   "metadata": {
    "id": "xcdjPTy0_7ud"
   },
   "source": [
    "## 3.03  Corrida notebook inicial\n",
    "\n",
    "En el repositorio oficial de la asignatura se encuentra el notebook ./src/rpart/z102_FinalTrain.ipynb  que automaticamente hace el submit a la Competencia Analista Sr  de Kaggle.\n",
    "<br>  Ingrese a un nuevo Google Colab  y pruebe algunas corridas del notebook cambiando los hiperparámetros de rpart"
   ]
  },
  {
   "cell_type": "markdown",
   "metadata": {
    "id": "Cv_td2pLawzc"
   },
   "source": [
    "## 3.04 Origen del Overfitting en un arbol de decisión\n",
    "¿Qué combinacion de hiperparámetros overfitea un árbol de decisión, para nuestro dataset?\n",
    "<br>¿Cómo se ve el overfitting desde el punto de vista de las curvas de ganancia?"
   ]
  },
  {
   "cell_type": "markdown",
   "metadata": {
    "id": "vyO0nseY5e6M"
   },
   "source": [
    "El objetivo de este capítulo es que usted juegue manualmente con los hiperparámetros de un rpart, observe las curvas de ganancia generadas en una particion <training=50%, testing=50%>  y obtengla conclusiones sobre el fenómeno observado."
   ]
  },
  {
   "cell_type": "markdown",
   "metadata": {
    "id": "Zyo3JVGn24zE"
   },
   "source": [
    "Introducimos el concepto de **Curva de Ganancia**\n",
    "<br> Al aplicar un modelo a un dataset se le asigna a cada registro una probabilidad, a su vez cada registro contribuye con una ganancia la que puede ser una pérdida o una ganancia.  \n",
    "<br>Ordenamos el dataset por probabilidad *descendente* y computamos la ganancia acumulada, generando de esta forma la curva de ganancia\n",
    "<br> Para visualizar el efecto del under/over  fitting adecuadamente, realizamos una particion  <training= 50%, testing= 50%>\n",
    "\n"
   ]
  },
  {
   "cell_type": "markdown",
   "metadata": {
    "id": "HXVdNC0R4FZe"
   },
   "source": [
    "tener presente:\n",
    "<br> Overfitting  **NO**  es la diferencia entre las curvas\n",
    "<br> Lo que divide el underfitting del overfitting al aumentar la complejidad del modelo es la complejidad donde se alcanza la métrica máxima."
   ]
  },
  {
   "cell_type": "markdown",
   "metadata": {
    "id": "a1p3BNOU7x_X"
   },
   "source": [
    "### ¿Qué debe hacer usted?\n",
    "Probar al menos estas combinaciones:\n",
    "* **Arbol crecimiento descontrolado**\n",
    "   * cp= -1\n",
    "   * maxdepth= 30\n",
    "   * minsplit= 2\n",
    "   * minbucket= 1\n",
    "* Arbol talla reducida\n",
    "   * cp= -1\n",
    "   * maxdepth= 3\n",
    "   * minsplit= 20000\n",
    "   * minbucket= 10000\n"
   ]
  },
  {
   "cell_type": "markdown",
   "metadata": {
    "id": "3m0ySYPfa7Zr"
   },
   "source": [
    "#### Seteo del ambiente en Google Colab"
   ]
  },
  {
   "cell_type": "markdown",
   "metadata": {
    "id": "NGY7H9xza7Zr"
   },
   "source": [
    "Esta parte se debe correr con el runtime en Python3\n",
    "<br>Ir al menu, Runtime -> Change Runtime Type -> Runtime type ->  **Python 3**"
   ]
  },
  {
   "cell_type": "markdown",
   "metadata": {
    "id": "7PupIBNba7Zr"
   },
   "source": [
    "Conectar la virtual machine donde esta corriendo Google Colab con el  Google Drive, para poder tener persistencia de archivos"
   ]
  },
  {
   "cell_type": "code",
   "execution_count": null,
   "metadata": {
    "id": "9LpZCst5a7Zs"
   },
   "outputs": [],
   "source": [
    "# primero establecer el Runtime de Python 3\n",
    "from google.colab import drive\n",
    "drive.mount('/content/.drive')"
   ]
  },
  {
   "cell_type": "markdown",
   "metadata": {
    "id": "JYC_F-wla7Zs"
   },
   "source": [
    "Para correr la siguiente celda es fundamental en Arranque en Frio haber copiado el archivo kaggle.json al Google Drive, en la carpeta indicada en el instructivo\n",
    "\n",
    "<br>los siguientes comando estan en shell script de Linux\n",
    "*   Crear las carpetas en el Google Drive\n",
    "*   \"instalar\" el archivo kaggle.json desde el Google Drive a la virtual machine para que pueda ser utilizado por la libreria  kaggle de Python\n",
    "*   Bajar el  **dataset_pequeno**  al  Google Drive  y tambien al disco local de la virtual machine que esta corriendo Google Colab\n",
    "\n"
   ]
  },
  {
   "cell_type": "code",
   "execution_count": null,
   "metadata": {
    "id": "XWLelftXa7Zt"
   },
   "outputs": [],
   "source": [
    "%%shell\n",
    "\n",
    "mkdir -p \"/content/.drive/My Drive/dm\"\n",
    "mkdir -p \"/content/buckets\"\n",
    "ln -s \"/content/.drive/My Drive/dm\" /content/buckets/b1\n",
    "\n",
    "mkdir -p ~/.kaggle\n",
    "cp /content/buckets/b1/kaggle/kaggle.json  ~/.kaggle\n",
    "chmod 600 ~/.kaggle/kaggle.json\n",
    "\n",
    "\n",
    "mkdir -p /content/buckets/b1/exp\n",
    "mkdir -p /content/buckets/b1/datasets\n",
    "mkdir -p /content/datasets\n",
    "\n",
    "\n",
    "\n",
    "archivo_origen=\"https://storage.googleapis.com/open-courses/itba2025-8d0a/dataset_pequeno.csv\"\n",
    "archivo_destino=\"/content/datasets/dataset_pequeno.csv\"\n",
    "archivo_destino_bucket=\"/content/buckets/b1/datasets/dataset_pequeno.csv\"\n",
    "\n",
    "if ! test -f $archivo_destino_bucket; then\n",
    "  wget  $archivo_origen  -O $archivo_destino_bucket\n",
    "fi\n",
    "\n",
    "\n",
    "if ! test -f $archivo_destino; then\n",
    "  cp  $archivo_destino_bucket  $archivo_destino\n",
    "fi\n"
   ]
  },
  {
   "cell_type": "markdown",
   "metadata": {
    "id": "JxhSJ-oqb-r6"
   },
   "source": [
    "Esta parte se debe correr con el runtime en lenguaje **R** Ir al menu, Runtime -> Change Runtime Type -> Runtime type -> R"
   ]
  },
  {
   "cell_type": "markdown",
   "metadata": {
    "id": "ls15rN6Ob-r7"
   },
   "source": [
    "limpio el ambiente de R"
   ]
  },
  {
   "cell_type": "code",
   "execution_count": 1,
   "metadata": {
    "id": "QrRq-FePb-r7"
   },
   "outputs": [
    {
     "data": {
      "text/html": [
       "<table class=\"dataframe\">\n",
       "<caption>A matrix: 2 × 6 of type dbl</caption>\n",
       "<thead>\n",
       "\t<tr><th></th><th scope=col>used</th><th scope=col>(Mb)</th><th scope=col>gc trigger</th><th scope=col>(Mb)</th><th scope=col>max used</th><th scope=col>(Mb)</th></tr>\n",
       "</thead>\n",
       "<tbody>\n",
       "\t<tr><th scope=row>Ncells</th><td> 653320</td><td>34.9</td><td>1439368</td><td>76.9</td><td>1286639</td><td>68.8</td></tr>\n",
       "\t<tr><th scope=row>Vcells</th><td>1216670</td><td> 9.3</td><td>8388608</td><td>64.0</td><td>1924961</td><td>14.7</td></tr>\n",
       "</tbody>\n",
       "</table>\n"
      ],
      "text/latex": [
       "A matrix: 2 × 6 of type dbl\n",
       "\\begin{tabular}{r|llllll}\n",
       "  & used & (Mb) & gc trigger & (Mb) & max used & (Mb)\\\\\n",
       "\\hline\n",
       "\tNcells &  653320 & 34.9 & 1439368 & 76.9 & 1286639 & 68.8\\\\\n",
       "\tVcells & 1216670 &  9.3 & 8388608 & 64.0 & 1924961 & 14.7\\\\\n",
       "\\end{tabular}\n"
      ],
      "text/markdown": [
       "\n",
       "A matrix: 2 × 6 of type dbl\n",
       "\n",
       "| <!--/--> | used | (Mb) | gc trigger | (Mb) | max used | (Mb) |\n",
       "|---|---|---|---|---|---|---|\n",
       "| Ncells |  653320 | 34.9 | 1439368 | 76.9 | 1286639 | 68.8 |\n",
       "| Vcells | 1216670 |  9.3 | 8388608 | 64.0 | 1924961 | 14.7 |\n",
       "\n"
      ],
      "text/plain": [
       "       used    (Mb) gc trigger (Mb) max used (Mb)\n",
       "Ncells  653320 34.9 1439368    76.9 1286639  68.8\n",
       "Vcells 1216670  9.3 8388608    64.0 1924961  14.7"
      ]
     },
     "metadata": {},
     "output_type": "display_data"
    }
   ],
   "source": [
    "# limpio la memoria\n",
    "rm(list=ls(all.names=TRUE)) # remove all objects\n",
    "gc(full=TRUE, verbose=FALSE) # garbage collection"
   ]
  },
  {
   "cell_type": "code",
   "execution_count": 2,
   "metadata": {
    "id": "IIeRpVlZb-r8"
   },
   "outputs": [
    {
     "name": "stderr",
     "output_type": "stream",
     "text": [
      "Loading required package: data.table\n",
      "\n",
      "Loading required package: rpart\n",
      "\n",
      "Loading required package: ggplot2\n",
      "\n"
     ]
    }
   ],
   "source": [
    "# cargo las librerias que necesito\n",
    "require(\"data.table\")\n",
    "require(\"rpart\")\n",
    "require(\"ggplot2\")"
   ]
  },
  {
   "cell_type": "code",
   "execution_count": 3,
   "metadata": {
    "id": "3Wb-iYIGb-r8"
   },
   "outputs": [],
   "source": [
    "# carpeta de trabajo\n",
    "setwd(\"/content/buckets/b1/exp\")\n",
    "experimento <- \"exp304\"\n",
    "dir.create(experimento, showWarnings=FALSE)\n",
    "setwd( paste0(\"/content/buckets/b1/exp/\", experimento ))"
   ]
  },
  {
   "cell_type": "markdown",
   "metadata": {
    "id": "DjLKeoBHhhNP"
   },
   "source": [
    "### Acción :  Jugar con  minsplit, minbucket y maxdepth"
   ]
  },
  {
   "cell_type": "code",
   "execution_count": 4,
   "metadata": {
    "id": "b-kYnwWzcRHK"
   },
   "outputs": [],
   "source": [
    "# cambiar aqui los parametros\n",
    "PARAM <- list()\n",
    "PARAM$semilla_primigenia <- 102191\n",
    "\n",
    "\n",
    "PARAM$minsplit <- 300\n",
    "PARAM$minbucket <- 20\n",
    "PARAM$maxdepth <- 11"
   ]
  },
  {
   "cell_type": "code",
   "execution_count": 5,
   "metadata": {
    "id": "ZqrrKQ5xcSvG"
   },
   "outputs": [],
   "source": [
    "# particionar agrega una columna llamada fold a un dataset\n",
    "#   que consiste en una particion estratificada segun agrupa\n",
    "# particionar( data=dataset, division=c(70,30),\n",
    "#  agrupa=clase_ternaria, seed=semilla)   crea una particion 70, 30\n",
    "\n",
    "particionar <- function(data, division, agrupa= \"\", campo= \"fold\", start= 1, seed= NA) {\n",
    "  if (!is.na(seed)) set.seed(seed)\n",
    "\n",
    "  bloque <- unlist(mapply(\n",
    "    function(x, y) {rep(y, x)},division, seq(from= start, length.out= length(division))))\n",
    "\n",
    "  data[, (campo) := sample(rep(bloque,ceiling(.N / length(bloque))))[1:.N],by= agrupa]\n",
    "}\n"
   ]
  },
  {
   "cell_type": "code",
   "execution_count": 6,
   "metadata": {
    "id": "9pwX8GTacf3Z"
   },
   "outputs": [],
   "source": [
    "# lectura del dataset\n",
    "\n",
    "dataset <- fread(\"/content/datasets/dataset_pequeno.csv\")"
   ]
  },
  {
   "cell_type": "code",
   "execution_count": 7,
   "metadata": {
    "id": "IaC-Ju2-ch-W"
   },
   "outputs": [],
   "source": [
    "# a partir de ahora solo trabajo con 202107, el mes que tiene clase\n",
    "\n",
    "dataset <- dataset[foto_mes == 202107] # defino donde voy a entrenar"
   ]
  },
  {
   "cell_type": "code",
   "execution_count": 8,
   "metadata": {
    "id": "eKJeTb1icluu"
   },
   "outputs": [],
   "source": [
    "# La division training/testing es 50%, 50%\n",
    "#  que sea 50/50 se indica con el c(1,1)\n",
    "\n",
    "particionar(dataset,\n",
    "  division= c(1, 1),\n",
    "  agrupa= \"clase_ternaria\",\n",
    "  seed= PARAM$semilla_primigenia\n",
    ")"
   ]
  },
  {
   "cell_type": "code",
   "execution_count": 9,
   "metadata": {
    "id": "v5Fuek3mc1Qx"
   },
   "outputs": [],
   "source": [
    "# Entreno el modelo\n",
    "# los datos donde voy a entrenar\n",
    "# aqui es donde se deben probar distintos hiperparametros\n",
    "\n",
    "modelo <- rpart(\n",
    "  formula= \"clase_ternaria ~ . -fold\",\n",
    "  data= dataset[fold == 1, ],\n",
    "  xval= 0,\n",
    "  cp= -1,\n",
    "  minsplit= PARAM$minsplit,\n",
    "  minbucket= PARAM$minbucket,\n",
    "  maxdepth= PARAM$maxdepth\n",
    ")"
   ]
  },
  {
   "cell_type": "code",
   "execution_count": 10,
   "metadata": {
    "id": "zjFQmTkFdGn8"
   },
   "outputs": [],
   "source": [
    "# aplico el modelo a TODOS los datos, inclusive los de training\n",
    "prediccion <- predict(modelo, dataset, type= \"prob\")"
   ]
  },
  {
   "cell_type": "code",
   "execution_count": 11,
   "metadata": {
    "id": "wxsRJ6-ldKMF"
   },
   "outputs": [],
   "source": [
    "# Pego la probabilidad de  BAJA+2\n",
    "tb_prediccion <- dataset[, list(fold,clase_ternaria)]\n",
    "tb_prediccion[, prob_baja2 := prediccion[, \"BAJA+2\"]]"
   ]
  },
  {
   "cell_type": "code",
   "execution_count": 12,
   "metadata": {
    "id": "CFPDDXxrdbHv"
   },
   "outputs": [],
   "source": [
    "# Dibujo la curva de ganancia acumulada\n",
    "setorder(tb_prediccion, fold, -prob_baja2)"
   ]
  },
  {
   "cell_type": "code",
   "execution_count": 13,
   "metadata": {
    "id": "bUPJACeXdoDM"
   },
   "outputs": [],
   "source": [
    "# agrego una columna que es la de las ganancias\n",
    "# la multiplico por 2 para que ya este normalizada\n",
    "#  es 2 porque cada fold es el 50%\n",
    "\n",
    "tb_prediccion[, gan := 2 *ifelse(clase_ternaria == \"BAJA+2\", 117000, -3000)]\n",
    "tb_prediccion[, ganancia_acumulada := cumsum(gan), by= fold]\n",
    "tb_prediccion[, pos := sequence(.N), by= fold]"
   ]
  },
  {
   "cell_type": "code",
   "execution_count": 14,
   "metadata": {
    "id": "mNdaJEmMe5gg"
   },
   "outputs": [
    {
     "data": {
      "text/html": [
       "<table class=\"dataframe\">\n",
       "<caption>A data.table: 164596 × 6</caption>\n",
       "<thead>\n",
       "\t<tr><th scope=col>fold</th><th scope=col>clase_ternaria</th><th scope=col>prob_baja2</th><th scope=col>gan</th><th scope=col>ganancia_acumulada</th><th scope=col>pos</th></tr>\n",
       "\t<tr><th scope=col>&lt;dbl&gt;</th><th scope=col>&lt;chr&gt;</th><th scope=col>&lt;dbl&gt;</th><th scope=col>&lt;dbl&gt;</th><th scope=col>&lt;dbl&gt;</th><th scope=col>&lt;int&gt;</th></tr>\n",
       "</thead>\n",
       "<tbody>\n",
       "\t<tr><td>1</td><td>BAJA+1  </td><td>0.4090909</td><td> -6000</td><td>  -6000</td><td> 1</td></tr>\n",
       "\t<tr><td>1</td><td>CONTINUA</td><td>0.4090909</td><td> -6000</td><td> -12000</td><td> 2</td></tr>\n",
       "\t<tr><td>1</td><td>BAJA+2  </td><td>0.4090909</td><td>234000</td><td> 222000</td><td> 3</td></tr>\n",
       "\t<tr><td>1</td><td>CONTINUA</td><td>0.4090909</td><td> -6000</td><td> 216000</td><td> 4</td></tr>\n",
       "\t<tr><td>1</td><td>BAJA+1  </td><td>0.4090909</td><td> -6000</td><td> 210000</td><td> 5</td></tr>\n",
       "\t<tr><td>1</td><td>BAJA+1  </td><td>0.4090909</td><td> -6000</td><td> 204000</td><td> 6</td></tr>\n",
       "\t<tr><td>1</td><td>BAJA+2  </td><td>0.4090909</td><td>234000</td><td> 438000</td><td> 7</td></tr>\n",
       "\t<tr><td>1</td><td>BAJA+1  </td><td>0.4090909</td><td> -6000</td><td> 432000</td><td> 8</td></tr>\n",
       "\t<tr><td>1</td><td>BAJA+1  </td><td>0.4090909</td><td> -6000</td><td> 426000</td><td> 9</td></tr>\n",
       "\t<tr><td>1</td><td>CONTINUA</td><td>0.4090909</td><td> -6000</td><td> 420000</td><td>10</td></tr>\n",
       "\t<tr><td>1</td><td>BAJA+2  </td><td>0.4090909</td><td>234000</td><td> 654000</td><td>11</td></tr>\n",
       "\t<tr><td>1</td><td>BAJA+1  </td><td>0.4090909</td><td> -6000</td><td> 648000</td><td>12</td></tr>\n",
       "\t<tr><td>1</td><td>BAJA+2  </td><td>0.4090909</td><td>234000</td><td> 882000</td><td>13</td></tr>\n",
       "\t<tr><td>1</td><td>BAJA+2  </td><td>0.4090909</td><td>234000</td><td>1116000</td><td>14</td></tr>\n",
       "\t<tr><td>1</td><td>BAJA+2  </td><td>0.4090909</td><td>234000</td><td>1350000</td><td>15</td></tr>\n",
       "\t<tr><td>1</td><td>CONTINUA</td><td>0.4090909</td><td> -6000</td><td>1344000</td><td>16</td></tr>\n",
       "\t<tr><td>1</td><td>CONTINUA</td><td>0.4090909</td><td> -6000</td><td>1338000</td><td>17</td></tr>\n",
       "\t<tr><td>1</td><td>BAJA+2  </td><td>0.4090909</td><td>234000</td><td>1572000</td><td>18</td></tr>\n",
       "\t<tr><td>1</td><td>CONTINUA</td><td>0.4090909</td><td> -6000</td><td>1566000</td><td>19</td></tr>\n",
       "\t<tr><td>1</td><td>BAJA+1  </td><td>0.4090909</td><td> -6000</td><td>1560000</td><td>20</td></tr>\n",
       "\t<tr><td>1</td><td>BAJA+2  </td><td>0.4090909</td><td>234000</td><td>1794000</td><td>21</td></tr>\n",
       "\t<tr><td>1</td><td>BAJA+2  </td><td>0.4090909</td><td>234000</td><td>2028000</td><td>22</td></tr>\n",
       "\t<tr><td>1</td><td>CONTINUA</td><td>0.2240803</td><td> -6000</td><td>2022000</td><td>23</td></tr>\n",
       "\t<tr><td>1</td><td>BAJA+2  </td><td>0.2240803</td><td>234000</td><td>2256000</td><td>24</td></tr>\n",
       "\t<tr><td>1</td><td>CONTINUA</td><td>0.2240803</td><td> -6000</td><td>2250000</td><td>25</td></tr>\n",
       "\t<tr><td>1</td><td>CONTINUA</td><td>0.2240803</td><td> -6000</td><td>2244000</td><td>26</td></tr>\n",
       "\t<tr><td>1</td><td>CONTINUA</td><td>0.2240803</td><td> -6000</td><td>2238000</td><td>27</td></tr>\n",
       "\t<tr><td>1</td><td>CONTINUA</td><td>0.2240803</td><td> -6000</td><td>2232000</td><td>28</td></tr>\n",
       "\t<tr><td>1</td><td>BAJA+2  </td><td>0.2240803</td><td>234000</td><td>2466000</td><td>29</td></tr>\n",
       "\t<tr><td>1</td><td>CONTINUA</td><td>0.2240803</td><td> -6000</td><td>2460000</td><td>30</td></tr>\n",
       "\t<tr><td>⋮</td><td>⋮</td><td>⋮</td><td>⋮</td><td>⋮</td><td>⋮</td></tr>\n",
       "\t<tr><td>2</td><td>CONTINUA</td><td>0</td><td>-6000</td><td>-343848000</td><td>82268</td></tr>\n",
       "\t<tr><td>2</td><td>CONTINUA</td><td>0</td><td>-6000</td><td>-343854000</td><td>82269</td></tr>\n",
       "\t<tr><td>2</td><td>CONTINUA</td><td>0</td><td>-6000</td><td>-343860000</td><td>82270</td></tr>\n",
       "\t<tr><td>2</td><td>CONTINUA</td><td>0</td><td>-6000</td><td>-343866000</td><td>82271</td></tr>\n",
       "\t<tr><td>2</td><td>CONTINUA</td><td>0</td><td>-6000</td><td>-343872000</td><td>82272</td></tr>\n",
       "\t<tr><td>2</td><td>CONTINUA</td><td>0</td><td>-6000</td><td>-343878000</td><td>82273</td></tr>\n",
       "\t<tr><td>2</td><td>CONTINUA</td><td>0</td><td>-6000</td><td>-343884000</td><td>82274</td></tr>\n",
       "\t<tr><td>2</td><td>CONTINUA</td><td>0</td><td>-6000</td><td>-343890000</td><td>82275</td></tr>\n",
       "\t<tr><td>2</td><td>CONTINUA</td><td>0</td><td>-6000</td><td>-343896000</td><td>82276</td></tr>\n",
       "\t<tr><td>2</td><td>CONTINUA</td><td>0</td><td>-6000</td><td>-343902000</td><td>82277</td></tr>\n",
       "\t<tr><td>2</td><td>CONTINUA</td><td>0</td><td>-6000</td><td>-343908000</td><td>82278</td></tr>\n",
       "\t<tr><td>2</td><td>CONTINUA</td><td>0</td><td>-6000</td><td>-343914000</td><td>82279</td></tr>\n",
       "\t<tr><td>2</td><td>CONTINUA</td><td>0</td><td>-6000</td><td>-343920000</td><td>82280</td></tr>\n",
       "\t<tr><td>2</td><td>CONTINUA</td><td>0</td><td>-6000</td><td>-343926000</td><td>82281</td></tr>\n",
       "\t<tr><td>2</td><td>CONTINUA</td><td>0</td><td>-6000</td><td>-343932000</td><td>82282</td></tr>\n",
       "\t<tr><td>2</td><td>CONTINUA</td><td>0</td><td>-6000</td><td>-343938000</td><td>82283</td></tr>\n",
       "\t<tr><td>2</td><td>CONTINUA</td><td>0</td><td>-6000</td><td>-343944000</td><td>82284</td></tr>\n",
       "\t<tr><td>2</td><td>CONTINUA</td><td>0</td><td>-6000</td><td>-343950000</td><td>82285</td></tr>\n",
       "\t<tr><td>2</td><td>CONTINUA</td><td>0</td><td>-6000</td><td>-343956000</td><td>82286</td></tr>\n",
       "\t<tr><td>2</td><td>CONTINUA</td><td>0</td><td>-6000</td><td>-343962000</td><td>82287</td></tr>\n",
       "\t<tr><td>2</td><td>CONTINUA</td><td>0</td><td>-6000</td><td>-343968000</td><td>82288</td></tr>\n",
       "\t<tr><td>2</td><td>BAJA+1  </td><td>0</td><td>-6000</td><td>-343974000</td><td>82289</td></tr>\n",
       "\t<tr><td>2</td><td>CONTINUA</td><td>0</td><td>-6000</td><td>-343980000</td><td>82290</td></tr>\n",
       "\t<tr><td>2</td><td>CONTINUA</td><td>0</td><td>-6000</td><td>-343986000</td><td>82291</td></tr>\n",
       "\t<tr><td>2</td><td>CONTINUA</td><td>0</td><td>-6000</td><td>-343992000</td><td>82292</td></tr>\n",
       "\t<tr><td>2</td><td>CONTINUA</td><td>0</td><td>-6000</td><td>-343998000</td><td>82293</td></tr>\n",
       "\t<tr><td>2</td><td>CONTINUA</td><td>0</td><td>-6000</td><td>-344004000</td><td>82294</td></tr>\n",
       "\t<tr><td>2</td><td>CONTINUA</td><td>0</td><td>-6000</td><td>-344010000</td><td>82295</td></tr>\n",
       "\t<tr><td>2</td><td>CONTINUA</td><td>0</td><td>-6000</td><td>-344016000</td><td>82296</td></tr>\n",
       "\t<tr><td>2</td><td>CONTINUA</td><td>0</td><td>-6000</td><td>-344022000</td><td>82297</td></tr>\n",
       "</tbody>\n",
       "</table>\n"
      ],
      "text/latex": [
       "A data.table: 164596 × 6\n",
       "\\begin{tabular}{llllll}\n",
       " fold & clase\\_ternaria & prob\\_baja2 & gan & ganancia\\_acumulada & pos\\\\\n",
       " <dbl> & <chr> & <dbl> & <dbl> & <dbl> & <int>\\\\\n",
       "\\hline\n",
       "\t 1 & BAJA+1   & 0.4090909 &  -6000 &   -6000 &  1\\\\\n",
       "\t 1 & CONTINUA & 0.4090909 &  -6000 &  -12000 &  2\\\\\n",
       "\t 1 & BAJA+2   & 0.4090909 & 234000 &  222000 &  3\\\\\n",
       "\t 1 & CONTINUA & 0.4090909 &  -6000 &  216000 &  4\\\\\n",
       "\t 1 & BAJA+1   & 0.4090909 &  -6000 &  210000 &  5\\\\\n",
       "\t 1 & BAJA+1   & 0.4090909 &  -6000 &  204000 &  6\\\\\n",
       "\t 1 & BAJA+2   & 0.4090909 & 234000 &  438000 &  7\\\\\n",
       "\t 1 & BAJA+1   & 0.4090909 &  -6000 &  432000 &  8\\\\\n",
       "\t 1 & BAJA+1   & 0.4090909 &  -6000 &  426000 &  9\\\\\n",
       "\t 1 & CONTINUA & 0.4090909 &  -6000 &  420000 & 10\\\\\n",
       "\t 1 & BAJA+2   & 0.4090909 & 234000 &  654000 & 11\\\\\n",
       "\t 1 & BAJA+1   & 0.4090909 &  -6000 &  648000 & 12\\\\\n",
       "\t 1 & BAJA+2   & 0.4090909 & 234000 &  882000 & 13\\\\\n",
       "\t 1 & BAJA+2   & 0.4090909 & 234000 & 1116000 & 14\\\\\n",
       "\t 1 & BAJA+2   & 0.4090909 & 234000 & 1350000 & 15\\\\\n",
       "\t 1 & CONTINUA & 0.4090909 &  -6000 & 1344000 & 16\\\\\n",
       "\t 1 & CONTINUA & 0.4090909 &  -6000 & 1338000 & 17\\\\\n",
       "\t 1 & BAJA+2   & 0.4090909 & 234000 & 1572000 & 18\\\\\n",
       "\t 1 & CONTINUA & 0.4090909 &  -6000 & 1566000 & 19\\\\\n",
       "\t 1 & BAJA+1   & 0.4090909 &  -6000 & 1560000 & 20\\\\\n",
       "\t 1 & BAJA+2   & 0.4090909 & 234000 & 1794000 & 21\\\\\n",
       "\t 1 & BAJA+2   & 0.4090909 & 234000 & 2028000 & 22\\\\\n",
       "\t 1 & CONTINUA & 0.2240803 &  -6000 & 2022000 & 23\\\\\n",
       "\t 1 & BAJA+2   & 0.2240803 & 234000 & 2256000 & 24\\\\\n",
       "\t 1 & CONTINUA & 0.2240803 &  -6000 & 2250000 & 25\\\\\n",
       "\t 1 & CONTINUA & 0.2240803 &  -6000 & 2244000 & 26\\\\\n",
       "\t 1 & CONTINUA & 0.2240803 &  -6000 & 2238000 & 27\\\\\n",
       "\t 1 & CONTINUA & 0.2240803 &  -6000 & 2232000 & 28\\\\\n",
       "\t 1 & BAJA+2   & 0.2240803 & 234000 & 2466000 & 29\\\\\n",
       "\t 1 & CONTINUA & 0.2240803 &  -6000 & 2460000 & 30\\\\\n",
       "\t ⋮ & ⋮ & ⋮ & ⋮ & ⋮ & ⋮\\\\\n",
       "\t 2 & CONTINUA & 0 & -6000 & -343848000 & 82268\\\\\n",
       "\t 2 & CONTINUA & 0 & -6000 & -343854000 & 82269\\\\\n",
       "\t 2 & CONTINUA & 0 & -6000 & -343860000 & 82270\\\\\n",
       "\t 2 & CONTINUA & 0 & -6000 & -343866000 & 82271\\\\\n",
       "\t 2 & CONTINUA & 0 & -6000 & -343872000 & 82272\\\\\n",
       "\t 2 & CONTINUA & 0 & -6000 & -343878000 & 82273\\\\\n",
       "\t 2 & CONTINUA & 0 & -6000 & -343884000 & 82274\\\\\n",
       "\t 2 & CONTINUA & 0 & -6000 & -343890000 & 82275\\\\\n",
       "\t 2 & CONTINUA & 0 & -6000 & -343896000 & 82276\\\\\n",
       "\t 2 & CONTINUA & 0 & -6000 & -343902000 & 82277\\\\\n",
       "\t 2 & CONTINUA & 0 & -6000 & -343908000 & 82278\\\\\n",
       "\t 2 & CONTINUA & 0 & -6000 & -343914000 & 82279\\\\\n",
       "\t 2 & CONTINUA & 0 & -6000 & -343920000 & 82280\\\\\n",
       "\t 2 & CONTINUA & 0 & -6000 & -343926000 & 82281\\\\\n",
       "\t 2 & CONTINUA & 0 & -6000 & -343932000 & 82282\\\\\n",
       "\t 2 & CONTINUA & 0 & -6000 & -343938000 & 82283\\\\\n",
       "\t 2 & CONTINUA & 0 & -6000 & -343944000 & 82284\\\\\n",
       "\t 2 & CONTINUA & 0 & -6000 & -343950000 & 82285\\\\\n",
       "\t 2 & CONTINUA & 0 & -6000 & -343956000 & 82286\\\\\n",
       "\t 2 & CONTINUA & 0 & -6000 & -343962000 & 82287\\\\\n",
       "\t 2 & CONTINUA & 0 & -6000 & -343968000 & 82288\\\\\n",
       "\t 2 & BAJA+1   & 0 & -6000 & -343974000 & 82289\\\\\n",
       "\t 2 & CONTINUA & 0 & -6000 & -343980000 & 82290\\\\\n",
       "\t 2 & CONTINUA & 0 & -6000 & -343986000 & 82291\\\\\n",
       "\t 2 & CONTINUA & 0 & -6000 & -343992000 & 82292\\\\\n",
       "\t 2 & CONTINUA & 0 & -6000 & -343998000 & 82293\\\\\n",
       "\t 2 & CONTINUA & 0 & -6000 & -344004000 & 82294\\\\\n",
       "\t 2 & CONTINUA & 0 & -6000 & -344010000 & 82295\\\\\n",
       "\t 2 & CONTINUA & 0 & -6000 & -344016000 & 82296\\\\\n",
       "\t 2 & CONTINUA & 0 & -6000 & -344022000 & 82297\\\\\n",
       "\\end{tabular}\n"
      ],
      "text/markdown": [
       "\n",
       "A data.table: 164596 × 6\n",
       "\n",
       "| fold &lt;dbl&gt; | clase_ternaria &lt;chr&gt; | prob_baja2 &lt;dbl&gt; | gan &lt;dbl&gt; | ganancia_acumulada &lt;dbl&gt; | pos &lt;int&gt; |\n",
       "|---|---|---|---|---|---|\n",
       "| 1 | BAJA+1   | 0.4090909 |  -6000 |   -6000 |  1 |\n",
       "| 1 | CONTINUA | 0.4090909 |  -6000 |  -12000 |  2 |\n",
       "| 1 | BAJA+2   | 0.4090909 | 234000 |  222000 |  3 |\n",
       "| 1 | CONTINUA | 0.4090909 |  -6000 |  216000 |  4 |\n",
       "| 1 | BAJA+1   | 0.4090909 |  -6000 |  210000 |  5 |\n",
       "| 1 | BAJA+1   | 0.4090909 |  -6000 |  204000 |  6 |\n",
       "| 1 | BAJA+2   | 0.4090909 | 234000 |  438000 |  7 |\n",
       "| 1 | BAJA+1   | 0.4090909 |  -6000 |  432000 |  8 |\n",
       "| 1 | BAJA+1   | 0.4090909 |  -6000 |  426000 |  9 |\n",
       "| 1 | CONTINUA | 0.4090909 |  -6000 |  420000 | 10 |\n",
       "| 1 | BAJA+2   | 0.4090909 | 234000 |  654000 | 11 |\n",
       "| 1 | BAJA+1   | 0.4090909 |  -6000 |  648000 | 12 |\n",
       "| 1 | BAJA+2   | 0.4090909 | 234000 |  882000 | 13 |\n",
       "| 1 | BAJA+2   | 0.4090909 | 234000 | 1116000 | 14 |\n",
       "| 1 | BAJA+2   | 0.4090909 | 234000 | 1350000 | 15 |\n",
       "| 1 | CONTINUA | 0.4090909 |  -6000 | 1344000 | 16 |\n",
       "| 1 | CONTINUA | 0.4090909 |  -6000 | 1338000 | 17 |\n",
       "| 1 | BAJA+2   | 0.4090909 | 234000 | 1572000 | 18 |\n",
       "| 1 | CONTINUA | 0.4090909 |  -6000 | 1566000 | 19 |\n",
       "| 1 | BAJA+1   | 0.4090909 |  -6000 | 1560000 | 20 |\n",
       "| 1 | BAJA+2   | 0.4090909 | 234000 | 1794000 | 21 |\n",
       "| 1 | BAJA+2   | 0.4090909 | 234000 | 2028000 | 22 |\n",
       "| 1 | CONTINUA | 0.2240803 |  -6000 | 2022000 | 23 |\n",
       "| 1 | BAJA+2   | 0.2240803 | 234000 | 2256000 | 24 |\n",
       "| 1 | CONTINUA | 0.2240803 |  -6000 | 2250000 | 25 |\n",
       "| 1 | CONTINUA | 0.2240803 |  -6000 | 2244000 | 26 |\n",
       "| 1 | CONTINUA | 0.2240803 |  -6000 | 2238000 | 27 |\n",
       "| 1 | CONTINUA | 0.2240803 |  -6000 | 2232000 | 28 |\n",
       "| 1 | BAJA+2   | 0.2240803 | 234000 | 2466000 | 29 |\n",
       "| 1 | CONTINUA | 0.2240803 |  -6000 | 2460000 | 30 |\n",
       "| ⋮ | ⋮ | ⋮ | ⋮ | ⋮ | ⋮ |\n",
       "| 2 | CONTINUA | 0 | -6000 | -343848000 | 82268 |\n",
       "| 2 | CONTINUA | 0 | -6000 | -343854000 | 82269 |\n",
       "| 2 | CONTINUA | 0 | -6000 | -343860000 | 82270 |\n",
       "| 2 | CONTINUA | 0 | -6000 | -343866000 | 82271 |\n",
       "| 2 | CONTINUA | 0 | -6000 | -343872000 | 82272 |\n",
       "| 2 | CONTINUA | 0 | -6000 | -343878000 | 82273 |\n",
       "| 2 | CONTINUA | 0 | -6000 | -343884000 | 82274 |\n",
       "| 2 | CONTINUA | 0 | -6000 | -343890000 | 82275 |\n",
       "| 2 | CONTINUA | 0 | -6000 | -343896000 | 82276 |\n",
       "| 2 | CONTINUA | 0 | -6000 | -343902000 | 82277 |\n",
       "| 2 | CONTINUA | 0 | -6000 | -343908000 | 82278 |\n",
       "| 2 | CONTINUA | 0 | -6000 | -343914000 | 82279 |\n",
       "| 2 | CONTINUA | 0 | -6000 | -343920000 | 82280 |\n",
       "| 2 | CONTINUA | 0 | -6000 | -343926000 | 82281 |\n",
       "| 2 | CONTINUA | 0 | -6000 | -343932000 | 82282 |\n",
       "| 2 | CONTINUA | 0 | -6000 | -343938000 | 82283 |\n",
       "| 2 | CONTINUA | 0 | -6000 | -343944000 | 82284 |\n",
       "| 2 | CONTINUA | 0 | -6000 | -343950000 | 82285 |\n",
       "| 2 | CONTINUA | 0 | -6000 | -343956000 | 82286 |\n",
       "| 2 | CONTINUA | 0 | -6000 | -343962000 | 82287 |\n",
       "| 2 | CONTINUA | 0 | -6000 | -343968000 | 82288 |\n",
       "| 2 | BAJA+1   | 0 | -6000 | -343974000 | 82289 |\n",
       "| 2 | CONTINUA | 0 | -6000 | -343980000 | 82290 |\n",
       "| 2 | CONTINUA | 0 | -6000 | -343986000 | 82291 |\n",
       "| 2 | CONTINUA | 0 | -6000 | -343992000 | 82292 |\n",
       "| 2 | CONTINUA | 0 | -6000 | -343998000 | 82293 |\n",
       "| 2 | CONTINUA | 0 | -6000 | -344004000 | 82294 |\n",
       "| 2 | CONTINUA | 0 | -6000 | -344010000 | 82295 |\n",
       "| 2 | CONTINUA | 0 | -6000 | -344016000 | 82296 |\n",
       "| 2 | CONTINUA | 0 | -6000 | -344022000 | 82297 |\n",
       "\n"
      ],
      "text/plain": [
       "       fold clase_ternaria prob_baja2 gan    ganancia_acumulada pos  \n",
       "1      1    BAJA+1         0.4090909   -6000   -6000             1   \n",
       "2      1    CONTINUA       0.4090909   -6000  -12000             2   \n",
       "3      1    BAJA+2         0.4090909  234000  222000             3   \n",
       "4      1    CONTINUA       0.4090909   -6000  216000             4   \n",
       "5      1    BAJA+1         0.4090909   -6000  210000             5   \n",
       "6      1    BAJA+1         0.4090909   -6000  204000             6   \n",
       "7      1    BAJA+2         0.4090909  234000  438000             7   \n",
       "8      1    BAJA+1         0.4090909   -6000  432000             8   \n",
       "9      1    BAJA+1         0.4090909   -6000  426000             9   \n",
       "10     1    CONTINUA       0.4090909   -6000  420000            10   \n",
       "11     1    BAJA+2         0.4090909  234000  654000            11   \n",
       "12     1    BAJA+1         0.4090909   -6000  648000            12   \n",
       "13     1    BAJA+2         0.4090909  234000  882000            13   \n",
       "14     1    BAJA+2         0.4090909  234000 1116000            14   \n",
       "15     1    BAJA+2         0.4090909  234000 1350000            15   \n",
       "16     1    CONTINUA       0.4090909   -6000 1344000            16   \n",
       "17     1    CONTINUA       0.4090909   -6000 1338000            17   \n",
       "18     1    BAJA+2         0.4090909  234000 1572000            18   \n",
       "19     1    CONTINUA       0.4090909   -6000 1566000            19   \n",
       "20     1    BAJA+1         0.4090909   -6000 1560000            20   \n",
       "21     1    BAJA+2         0.4090909  234000 1794000            21   \n",
       "22     1    BAJA+2         0.4090909  234000 2028000            22   \n",
       "23     1    CONTINUA       0.2240803   -6000 2022000            23   \n",
       "24     1    BAJA+2         0.2240803  234000 2256000            24   \n",
       "25     1    CONTINUA       0.2240803   -6000 2250000            25   \n",
       "26     1    CONTINUA       0.2240803   -6000 2244000            26   \n",
       "27     1    CONTINUA       0.2240803   -6000 2238000            27   \n",
       "28     1    CONTINUA       0.2240803   -6000 2232000            28   \n",
       "29     1    BAJA+2         0.2240803  234000 2466000            29   \n",
       "30     1    CONTINUA       0.2240803   -6000 2460000            30   \n",
       "⋮      ⋮    ⋮              ⋮          ⋮      ⋮                  ⋮    \n",
       "164567 2    CONTINUA       0          -6000  -343848000         82268\n",
       "164568 2    CONTINUA       0          -6000  -343854000         82269\n",
       "164569 2    CONTINUA       0          -6000  -343860000         82270\n",
       "164570 2    CONTINUA       0          -6000  -343866000         82271\n",
       "164571 2    CONTINUA       0          -6000  -343872000         82272\n",
       "164572 2    CONTINUA       0          -6000  -343878000         82273\n",
       "164573 2    CONTINUA       0          -6000  -343884000         82274\n",
       "164574 2    CONTINUA       0          -6000  -343890000         82275\n",
       "164575 2    CONTINUA       0          -6000  -343896000         82276\n",
       "164576 2    CONTINUA       0          -6000  -343902000         82277\n",
       "164577 2    CONTINUA       0          -6000  -343908000         82278\n",
       "164578 2    CONTINUA       0          -6000  -343914000         82279\n",
       "164579 2    CONTINUA       0          -6000  -343920000         82280\n",
       "164580 2    CONTINUA       0          -6000  -343926000         82281\n",
       "164581 2    CONTINUA       0          -6000  -343932000         82282\n",
       "164582 2    CONTINUA       0          -6000  -343938000         82283\n",
       "164583 2    CONTINUA       0          -6000  -343944000         82284\n",
       "164584 2    CONTINUA       0          -6000  -343950000         82285\n",
       "164585 2    CONTINUA       0          -6000  -343956000         82286\n",
       "164586 2    CONTINUA       0          -6000  -343962000         82287\n",
       "164587 2    CONTINUA       0          -6000  -343968000         82288\n",
       "164588 2    BAJA+1         0          -6000  -343974000         82289\n",
       "164589 2    CONTINUA       0          -6000  -343980000         82290\n",
       "164590 2    CONTINUA       0          -6000  -343986000         82291\n",
       "164591 2    CONTINUA       0          -6000  -343992000         82292\n",
       "164592 2    CONTINUA       0          -6000  -343998000         82293\n",
       "164593 2    CONTINUA       0          -6000  -344004000         82294\n",
       "164594 2    CONTINUA       0          -6000  -344010000         82295\n",
       "164595 2    CONTINUA       0          -6000  -344016000         82296\n",
       "164596 2    CONTINUA       0          -6000  -344022000         82297"
      ]
     },
     "metadata": {},
     "output_type": "display_data"
    }
   ],
   "source": [
    "tb_prediccion"
   ]
  },
  {
   "cell_type": "code",
   "execution_count": 18,
   "metadata": {
    "id": "687CCwPMfaDt"
   },
   "outputs": [],
   "source": [
    "# agrego una columna que es la de las ganancias\n",
    "# la multiplico por 2 para que ya este normalizada\n",
    "#  es 2 porque cada fold es el 50%\n",
    "\n",
    "tb_prediccion[, gan := 2 *ifelse(clase_ternaria == \"BAJA+2\", 117000, -3000)]\n",
    "tb_prediccion[, ganancia_acumulada := cumsum(gan), by= fold]\n",
    "tb_prediccion[, pos := sequence(.N), by= fold]"
   ]
  },
  {
   "cell_type": "code",
   "execution_count": 19,
   "metadata": {
    "id": "Gnzpijujfi8X"
   },
   "outputs": [],
   "source": [
    "# defino hasta donde muestra el grafico\n",
    "amostrar <- 20000"
   ]
  },
  {
   "cell_type": "code",
   "execution_count": 20,
   "metadata": {
    "id": "YCTWdnn5c-T8"
   },
   "outputs": [
    {
     "data": {
      "image/png": "[encoded data removed]",
      "text/plain": [
       "plot without title"
      ]
     },
     "metadata": {
      "image/png": {
       "height": 600,
       "width": 600
      }
     },
     "output_type": "display_data"
    }
   ],
   "source": [
    "# Esta hermosa curva muestra como en el mentiroso training\n",
    "#   la ganancia es siempre mejor que en el real testing\n",
    "\n",
    "options( repr.plot.width=10, repr.plot.height=10)\n",
    "\n",
    "gra <- ggplot(\n",
    "           data= tb_prediccion[pos <= amostrar],\n",
    "           aes( x= pos, y= ganancia_acumulada,\n",
    "                color= ifelse(fold == 1, \"train\", \"test\") )\n",
    "             ) + geom_line()\n",
    "\n",
    "print( gra )\n"
   ]
  },
  {
   "cell_type": "code",
   "execution_count": null,
   "metadata": {
    "id": "pCXOZ8bVfnsG"
   },
   "outputs": [],
   "source": [
    "# veo los resultados\n",
    "\n",
    "print(PARAM)\n",
    "cat( \"Train gan max: \", tb_prediccion[fold==1, max(ganancia_acumulada)], \"\\n\" )\n",
    "cat( \"Test  gan max: \", tb_prediccion[fold==2, max(ganancia_acumulada)], \"\\n\" )\n"
   ]
  },
  {
   "cell_type": "markdown",
   "metadata": {
    "id": "BPZj2gpfvvSC"
   },
   "source": [
    "## 3.05 Análisis de la salida de Grid Search\n",
    "\n",
    "En clase utilizando un enfoque constructivista de educacion cada una de las mesas del aula analizará las salidas de las corridas de Grid Search de la Tarea para el Hogar.\n",
    "<br>Se espera que quienes ya trabajan como Data Analyst se luzcan en el análisis de esos datos\n",
    "<br>Finalmente se utilizara un *arma conceptual secreta*, iluminando elegantemente donde están las mayores ganancias.\n",
    "\n",
    "<br><br>Si usted no tuvo la oportunidad de hacer sus propias corridas esta generosa cátedra pone a su diposición esta salida https://storage.googleapis.com/open-courses/itba2025-8d0a/gridsearch.txt"
   ]
  },
  {
   "cell_type": "markdown",
   "metadata": {
    "id": "xyHuVU4wK0Xh"
   },
   "source": [
    "## 3.06 La Maldición del Ganador"
   ]
  },
  {
   "cell_type": "markdown",
   "metadata": {
    "id": "olG0m0HQK4Ly"
   },
   "source": [
    "¿Los hiperparámetros ganadores de toda la cohorte, estan overfiteando?\n",
    "<br> Trabajaremos con la hoja **C3-GS Overfitting** de la Google Sheet Colaborativa\n",
    "<br> Determinar de toda la cohorte quien obtuvo la mayor ganancia y con qué hiperparámetros\n",
    "<br> copiarlos  a la hoja **C3-GS Overfitting**\n",
    "<br> Quien obtuvo esa ganancia no debe hacer nada\n",
    "<br> El resto de la cohorte, modifica su script de Grid Search para calcular la ganancia de dichos hiperparámetros ganadores  utilizando su Semilla Primigenia y registra la ganancia en la linea correspondiente a su nombre en la hoja C3-GS Overfitting"
   ]
  },
  {
   "cell_type": "markdown",
   "metadata": {
    "id": "ch9ilhfJMFhs"
   },
   "source": [
    "¿ Como compara la ganancia del ganador versus el resto de las ganancias recién calculadas ?"
   ]
  },
  {
   "cell_type": "markdown",
   "metadata": {
    "id": "SDTdFtJzPdCR"
   },
   "source": [
    "#### Bibliografia"
   ]
  },
  {
   "cell_type": "markdown",
   "metadata": {
    "id": "OtOkVKZ9PfY0"
   },
   "source": [
    "* Selective Inference - the silent killer of replicability   https://www.youtube.com/watch?v=6ZxIzVjV1DE\n",
    "* Ioannidis, J. P. A. Why most published research findings are false. PLoS Med. 2, e124 (2005). https://journals.plos.org/plosmedicine/article/file?id=10.1371/journal.pmed.0020124&type=printable"
   ]
  },
  {
   "cell_type": "markdown",
   "metadata": {
    "id": "LBl_eIeO7WuM"
   },
   "source": [
    "\n",
    "\n",
    "---\n",
    "\n"
   ]
  },
  {
   "cell_type": "markdown",
   "metadata": {
    "id": "QNSznolLMVyY"
   },
   "source": [
    "## 3.07 Data Drifting  sospechas"
   ]
  },
  {
   "cell_type": "markdown",
   "metadata": {
    "id": "HMVNxSEcMdiK"
   },
   "source": [
    "Ordenar la salida del Grid Search en forma descendente por ganancia (en testing obviamente)\n",
    "<br> De esta forma la posición 1 corresponde a la mayor ganancia, la 2 a la segunda mejor, etc\n",
    "<br> En la Google Sheet Colaborativa,  hoja  **C3- GridSEarch** cargue las posiciones  1, 2, 5, 10, 50 y 100 de la salida del Grid Search, dejando la columna Public Leaderboard sin cargar\n",
    "<br> La columna ganancia_mean tiene valores en orden descendente"
   ]
  },
  {
   "cell_type": "markdown",
   "metadata": {
    "id": "T0SNDZq7NdGZ"
   },
   "source": [
    "El objetivo de hacer Grid Search  es utilizando particiones <training, testing>  encontrar los mejores hiperparámetros\n",
    "<br> Esto tiene sentido en la medida que los hiperparámetros que resultan mejores de la búsqueda Grid Search son también los mejores cuando se hace el Final Training"
   ]
  },
  {
   "cell_type": "markdown",
   "metadata": {
    "id": "-4M7yP3VOAm_"
   },
   "source": [
    "Utilizando el notebook de la primiera clase,  **z102_FinalTrain.ipynb**   calcule para cada uno de los sets de hiperparámetros de las posiciones 1, 2, 5, 10, 50 y 100  cual es la ganancia en el Public Leaderboard de Kaggle\n",
    "<br> Deberá hacer una corrida para cada conjunto de hiperparámetros"
   ]
  },
  {
   "cell_type": "markdown",
   "metadata": {
    "id": "aGcjHfd3Ofmj"
   },
   "source": [
    " ¿ Se cumple que los hiperparámetros de la posición  1 del Grid Search son los que mejor funcionan para predecir los datos del futuro ?"
   ]
  },
  {
   "cell_type": "markdown",
   "metadata": {
    "id": "vbAo1HByPEdy"
   },
   "source": [
    "¿ Si esto no fuera así, estamos en una sitacion de **Game Over** ?"
   ]
  },
  {
   "cell_type": "markdown",
   "metadata": {
    "id": "Pc9x9DnsNlZv"
   },
   "source": [
    "\n",
    "\n",
    "---\n",
    "\n"
   ]
  },
  {
   "cell_type": "markdown",
   "metadata": {
    "id": "-ctmDt7dPRgE"
   },
   "source": [
    "## 3.08 Data Drifting, breve intuicion"
   ]
  },
  {
   "cell_type": "markdown",
   "metadata": {
    "id": "hMuubs9vQKYC"
   },
   "source": [
    "Se mostrará un posible origen de las discrepancias observadas en el capítulo anterior\n",
    "<br> La solución al Data Drifting es otro precio ..."
   ]
  },
  {
   "cell_type": "markdown",
   "metadata": {
    "id": "LgGgjPQuGimP"
   },
   "source": [
    "Esta parte se debe correr con el runtime en lenguaje **R** Ir al menu, Runtime -> Change Runtime Type -> Runtime type -> R"
   ]
  },
  {
   "cell_type": "markdown",
   "metadata": {
    "id": "a6AxqLwOGimQ"
   },
   "source": [
    "limpio el ambiente de R"
   ]
  },
  {
   "cell_type": "code",
   "execution_count": null,
   "metadata": {
    "id": "797Ad0_QGimQ"
   },
   "outputs": [],
   "source": [
    "# limpio la memoria\n",
    "rm(list=ls(all.names=TRUE)) # remove all objects\n",
    "gc(full=TRUE, verbose=FALSE) # garbage collection"
   ]
  },
  {
   "cell_type": "markdown",
   "metadata": {
    "id": "v0CepvbjGimQ"
   },
   "source": [
    "* Instalacion de la libreria  rpart.plot  para dibujar el arbol\n",
    "* invocacion de las librerias  **data.table** y  **rpart**"
   ]
  },
  {
   "cell_type": "code",
   "execution_count": null,
   "metadata": {
    "id": "CRkZ1V2_GimR"
   },
   "outputs": [],
   "source": [
    "# cargo las librerias que necesito\n",
    "require(\"data.table\")\n",
    "require(\"rpart\")"
   ]
  },
  {
   "cell_type": "code",
   "execution_count": null,
   "metadata": {
    "id": "NB9XL85QSREx"
   },
   "outputs": [],
   "source": [
    "# carpeta de trabajo\n",
    "setwd(\"/content/buckets/b1/exp\")\n",
    "experimento <- \"exp308\"\n",
    "dir.create(experimento, showWarnings=FALSE)\n",
    "setwd( paste0(\"/content/buckets/b1/exp/\", experimento ))"
   ]
  },
  {
   "cell_type": "code",
   "execution_count": null,
   "metadata": {
    "id": "YWVW1EI3SXRi"
   },
   "outputs": [],
   "source": [
    "PARAM <- list()\n",
    "PARAM$mes0 <- 202107\n",
    "PARAM$mes1 <- 202109"
   ]
  },
  {
   "cell_type": "code",
   "execution_count": null,
   "metadata": {
    "id": "o4Ec0SIXSnjx"
   },
   "outputs": [],
   "source": [
    "graficar_campo <- function(campo, param) {\n",
    "  # quito de grafico las colas del 5% de las densidades\n",
    "  qA <- quantile(dataset[foto_mes == param$mes0, get(campo)],\n",
    "    prob= c(0.05, 0.95), na.rm= TRUE\n",
    "  )\n",
    "\n",
    "  qB <- quantile(dataset[foto_mes == param$mes1, get(campo)],\n",
    "    prob= c(0.05, 0.95), na.rm= TRUE\n",
    "  )\n",
    "\n",
    "  xxmin <- pmin(qA[[1]], qB[[1]])\n",
    "  xxmax <- pmax(qA[[2]], qB[[2]])\n",
    "\n",
    "  densidad_A <- density(dataset[foto_mes == param$mes0, get(campo)],\n",
    "    kernel= \"gaussian\", na.rm= TRUE\n",
    "  )\n",
    "\n",
    "  densidad_B <- density(dataset[foto_mes == param$mes1, get(campo)],\n",
    "    kernel= \"gaussian\", na.rm= TRUE\n",
    "  )\n",
    "\n",
    "  plot(densidad_A,\n",
    "    col= \"blue\",\n",
    "    xlim= c(xxmin, xxmax),\n",
    "    ylim= c(0, pmax(max(densidad_A$y), max(densidad_B$y))),\n",
    "    main= campo\n",
    "  )\n",
    "\n",
    "  lines(densidad_B, col= \"red\", lty= 2)\n",
    "\n",
    "  legend(\"topright\",\n",
    "    legend= c( param$mes0, param$mes1),\n",
    "    col= c(\"blue\", \"red\"), lty= c(1, 2)\n",
    "  )\n",
    "}\n"
   ]
  },
  {
   "cell_type": "code",
   "execution_count": null,
   "metadata": {
    "id": "qa6PCztQTIZr"
   },
   "outputs": [],
   "source": [
    "# lectura del dataset\n",
    "dataset <- fread(\"/content/datasets/dataset_pequeno.csv\")"
   ]
  },
  {
   "cell_type": "code",
   "execution_count": null,
   "metadata": {
    "id": "ijE1YZvXTYxF"
   },
   "outputs": [],
   "source": [
    "# Entreno el modelo\n",
    "# utilizo los mejores hiperparametros encontrados\n",
    "\n",
    "modelo <- rpart(\n",
    "  formula= \"clase_ternaria ~ . \",\n",
    "  data= dataset[foto_mes == PARAM$mes0], # los datos donde voy a entrenar\n",
    "  xval= 0,\n",
    "  cp= -1,\n",
    "  minsplit= 1144,\n",
    "  minbucket= 539,\n",
    "  maxdepth= 8\n",
    ")\n"
   ]
  },
  {
   "cell_type": "code",
   "execution_count": null,
   "metadata": {
    "id": "HS8Sj8aNUIJZ"
   },
   "outputs": [],
   "source": [
    "\n",
    "campos_modelo <- names(modelo$variable.importance)\n",
    "campos_buenos <- c(campos_modelo, setdiff(colnames(dataset), campos_modelo))\n",
    "campos_buenos <- setdiff(\n",
    "  campos_buenos,\n",
    "  c(\"foto_mes\", \"clase_ternaria\")\n",
    ")\n",
    "\n",
    "campos_buenos"
   ]
  },
  {
   "cell_type": "code",
   "execution_count": null,
   "metadata": {
    "id": "05cmWkKrVUAm"
   },
   "outputs": [],
   "source": [
    "# para fines didacticos,  cliente_antiguedad primero\n",
    "campos_buenos <- c(\"cliente_antiguedad\", campos_buenos)"
   ]
  },
  {
   "cell_type": "code",
   "execution_count": null,
   "metadata": {
    "id": "009BAOZ3UQV-"
   },
   "outputs": [],
   "source": [
    "# grafico las densidades de cada variable para los dos mses\n",
    "\n",
    "options( repr.plot.width=15, repr.plot.height=15)\n",
    "\n",
    "for (campo in campos_buenos) {\n",
    "  cat(campo, \"  \")\n",
    "  graficar_campo(campo, PARAM)\n",
    "}\n"
   ]
  },
  {
   "cell_type": "markdown",
   "metadata": {
    "id": "BCjhc7VGOySp"
   },
   "source": [
    "\n",
    "\n",
    "---\n",
    "\n"
   ]
  },
  {
   "cell_type": "markdown",
   "metadata": {
    "id": "5cZrnAixV3gT"
   },
   "source": [
    "## 3.09 Bayesian Optimization"
   ]
  },
  {
   "cell_type": "markdown",
   "metadata": {
    "id": "jRnL1RAGWTKy"
   },
   "source": [
    "Se explicará en clase como a partir del Grid Search se deriva el algoritmo de Bayesian Optimization"
   ]
  },
  {
   "cell_type": "markdown",
   "metadata": {
    "id": "UMr6Z1enOyd3"
   },
   "source": [
    "\n",
    "\n",
    "---\n",
    "\n"
   ]
  },
  {
   "cell_type": "markdown",
   "metadata": {
    "id": "khI14CLoWfCK"
   },
   "source": [
    "## 3.10 Bayesian Optimization código"
   ]
  },
  {
   "cell_type": "markdown",
   "metadata": {
    "id": "Pb0kVc82WnwU"
   },
   "source": [
    "Esta parte se debe correr con el runtime en lenguaje **R** Ir al menu, Runtime -> Change Runtime Type -> Runtime type -> R"
   ]
  },
  {
   "cell_type": "markdown",
   "metadata": {
    "id": "R1yj6LSBWnwU"
   },
   "source": [
    "limpio el ambiente de R"
   ]
  },
  {
   "cell_type": "code",
   "execution_count": 1,
   "metadata": {
    "id": "THfA4LSjWnwU"
   },
   "outputs": [
    {
     "data": {
      "text/html": [
       "<table class=\"dataframe\">\n",
       "<caption>A matrix: 2 × 6 of type dbl</caption>\n",
       "<thead>\n",
       "\t<tr><th></th><th scope=col>used</th><th scope=col>(Mb)</th><th scope=col>gc trigger</th><th scope=col>(Mb)</th><th scope=col>max used</th><th scope=col>(Mb)</th></tr>\n",
       "</thead>\n",
       "<tbody>\n",
       "\t<tr><th scope=row>Ncells</th><td> 653311</td><td>34.9</td><td>1439371</td><td>76.9</td><td>1163091</td><td>62.2</td></tr>\n",
       "\t<tr><th scope=row>Vcells</th><td>1216655</td><td> 9.3</td><td>8388608</td><td>64.0</td><td>1924961</td><td>14.7</td></tr>\n",
       "</tbody>\n",
       "</table>\n"
      ],
      "text/latex": [
       "A matrix: 2 × 6 of type dbl\n",
       "\\begin{tabular}{r|llllll}\n",
       "  & used & (Mb) & gc trigger & (Mb) & max used & (Mb)\\\\\n",
       "\\hline\n",
       "\tNcells &  653311 & 34.9 & 1439371 & 76.9 & 1163091 & 62.2\\\\\n",
       "\tVcells & 1216655 &  9.3 & 8388608 & 64.0 & 1924961 & 14.7\\\\\n",
       "\\end{tabular}\n"
      ],
      "text/markdown": [
       "\n",
       "A matrix: 2 × 6 of type dbl\n",
       "\n",
       "| <!--/--> | used | (Mb) | gc trigger | (Mb) | max used | (Mb) |\n",
       "|---|---|---|---|---|---|---|\n",
       "| Ncells |  653311 | 34.9 | 1439371 | 76.9 | 1163091 | 62.2 |\n",
       "| Vcells | 1216655 |  9.3 | 8388608 | 64.0 | 1924961 | 14.7 |\n",
       "\n"
      ],
      "text/plain": [
       "       used    (Mb) gc trigger (Mb) max used (Mb)\n",
       "Ncells  653311 34.9 1439371    76.9 1163091  62.2\n",
       "Vcells 1216655  9.3 8388608    64.0 1924961  14.7"
      ]
     },
     "metadata": {},
     "output_type": "display_data"
    }
   ],
   "source": [
    "# limpio la memoria\n",
    "rm(list=ls(all.names=TRUE)) # remove all objects\n",
    "gc(full=TRUE, verbose=FALSE) # garbage collection"
   ]
  },
  {
   "cell_type": "markdown",
   "metadata": {
    "id": "JpzI9HIJWnwV"
   },
   "source": [
    "* Instalacion de la libreria  rpart.plot  para dibujar el arbol\n",
    "* invocacion de las librerias  **data.table** y  **rpart**"
   ]
  },
  {
   "cell_type": "code",
   "execution_count": 2,
   "metadata": {
    "id": "zeCTdZGyWnwV"
   },
   "outputs": [
    {
     "name": "stderr",
     "output_type": "stream",
     "text": [
      "Loading required package: data.table\n",
      "\n",
      "Loading required package: rpart\n",
      "\n",
      "Loading required package: parallel\n",
      "\n"
     ]
    }
   ],
   "source": [
    "# cargo las librerias que necesito\n",
    "require(\"data.table\")\n",
    "require(\"rpart\")\n",
    "require(\"parallel\")"
   ]
  },
  {
   "cell_type": "code",
   "execution_count": 3,
   "metadata": {
    "id": "MjmheQDhkI9x"
   },
   "outputs": [
    {
     "name": "stderr",
     "output_type": "stream",
     "text": [
      "Loading required package: rlist\n",
      "\n"
     ]
    }
   ],
   "source": [
    "if( ! require(\"rlist\") ) install.packages(\"rlist\")\n",
    "require(\"rlist\")"
   ]
  },
  {
   "cell_type": "code",
   "execution_count": 4,
   "metadata": {
    "id": "CzTjEz__kOrf"
   },
   "outputs": [
    {
     "name": "stderr",
     "output_type": "stream",
     "text": [
      "Loading required package: DiceKriging\n",
      "\n"
     ]
    }
   ],
   "source": [
    "# paquete necesarios para la Bayesian Optimization\n",
    "if( !require(\"DiceKriging\") ) install.packages(\"DiceKriging\")\n",
    "require(\"DiceKriging\")"
   ]
  },
  {
   "cell_type": "code",
   "execution_count": 5,
   "metadata": {
    "id": "0irLrQDkkdPl"
   },
   "outputs": [
    {
     "name": "stderr",
     "output_type": "stream",
     "text": [
      "Loading required package: mlrMBO\n",
      "\n",
      "Loading required package: mlr\n",
      "\n",
      "Loading required package: ParamHelpers\n",
      "\n",
      "Loading required package: smoof\n",
      "\n",
      "Loading required package: checkmate\n",
      "\n",
      "\n",
      "Attaching package: ‘checkmate’\n",
      "\n",
      "\n",
      "The following object is masked from ‘package:DiceKriging’:\n",
      "\n",
      "    checkNames\n",
      "\n",
      "\n"
     ]
    }
   ],
   "source": [
    "# paquete necesarios para la Bayesian Optimization\n",
    "if( !require(\"mlrMBO\") ) install.packages(\"mlrMBO\")\n",
    "require(\"mlrMBO\")"
   ]
  },
  {
   "cell_type": "markdown",
   "metadata": {
    "id": "0h5tn-8QL1YA"
   },
   "source": [
    "Accion a realizar : cambiar por su semilla primigenia"
   ]
  },
  {
   "cell_type": "code",
   "execution_count": 6,
   "metadata": {
    "id": "rFmJWC1nlCaA"
   },
   "outputs": [],
   "source": [
    "# Defino la  Optimizacion Bayesiana\n",
    "\n",
    "# cantidad de iteraciones de la Optimizacion Bayesiana\n",
    "PARAM <- list()\n",
    "\n",
    "PARAM$semilla_primigenia <- 100019\n",
    "PARAM$experimento <- \"HT310\"\n",
    "\n",
    "PARAM$BO_iter <- 40 #cantidad de iteraciones de la Bayesian Optimization\n",
    "\n",
    "# la letra L al final de 1L significa ENTERO\n",
    "PARAM$hs <- makeParamSet(\n",
    "    makeNumericParam(\"cp\", lower= -1, upper= 0.1),\n",
    "    makeIntegerParam(\"minsplit\", lower= 1L, upper= 8000L),\n",
    "    makeIntegerParam(\"minbucket\", lower= 1L, upper= 4000L),\n",
    "    makeIntegerParam(\"maxdepth\", lower= 3L, upper= 20L),\n",
    "    forbidden= quote(minbucket > 0.5 * minsplit)\n",
    ")\n",
    "# minbuket NO PUEDE ser mayor que la mitad de minsplit\n",
    "\n"
   ]
  },
  {
   "cell_type": "code",
   "execution_count": 7,
   "metadata": {
    "id": "xUuITlXAOp-2"
   },
   "outputs": [],
   "source": [
    "# carpeta de trabajo\n",
    "setwd(\"/content/buckets/b1/exp\")\n",
    "dir.create(PARAM$experimento, showWarnings=FALSE)\n",
    "setwd( paste0(\"/content/buckets/b1/exp/\", PARAM$experimento ))"
   ]
  },
  {
   "cell_type": "code",
   "execution_count": 8,
   "metadata": {
    "id": "0AWMWd5dlHqk"
   },
   "outputs": [],
   "source": [
    "particionar <- function(data, division, agrupa = \"\", campo = \"fold\",\n",
    "                        start = 1, seed = NA) {\n",
    "  if (!is.na(seed)) set.seed(seed)\n",
    "\n",
    "  bloque <- unlist(mapply(\n",
    "    function(x, y) {\n",
    "      rep(y, x)\n",
    "    }, division,\n",
    "    seq(from= start, length.out= length(division))\n",
    "  ))\n",
    "\n",
    "  data[, (campo) := sample(rep(bloque, ceiling(.N / length(bloque))))[1:.N],\n",
    "    by= agrupa\n",
    "  ]\n",
    "}\n"
   ]
  },
  {
   "cell_type": "code",
   "execution_count": 9,
   "metadata": {
    "id": "Bij2dW0ElKZ8"
   },
   "outputs": [],
   "source": [
    "# fold_test  tiene el numero de fold que voy a usar para testear,\n",
    "#  entreno en el resto de los folds\n",
    "# param tiene los hiperparametros del arbol\n",
    "\n",
    "ArbolSimple <- function(fold_test, param_rpart) {\n",
    "  # genero el modelo\n",
    "  # entreno en todo MENOS el fold_test que uso para testing\n",
    "  modelo <- rpart(\"clase_ternaria ~ .\",\n",
    "    data= dataset[fold != fold_test, ],\n",
    "    xval= 0,\n",
    "    control= param_rpart\n",
    "  )\n",
    "\n",
    "  # aplico el modelo a los datos de testing\n",
    "  # aplico el modelo sobre los datos de testing\n",
    "  # quiero que me devuelva probabilidades\n",
    "  prediccion <- predict(modelo,\n",
    "    dataset[fold == fold_test, ],\n",
    "    type= \"prob\"\n",
    "  )\n",
    "\n",
    "  # esta es la probabilidad de baja\n",
    "  prob_baja2 <- prediccion[, \"BAJA+2\"]\n",
    "\n",
    "  # calculo la ganancia\n",
    "  ganancia_testing <- dataset[fold == fold_test][\n",
    "    prob_baja2 > 1 / 40,\n",
    "    sum(ifelse(clase_ternaria == \"BAJA+2\",\n",
    "      117000, -3000\n",
    "    ))\n",
    "  ]\n",
    "\n",
    "  # esta es la ganancia sobre el fold de testing, NO esta normalizada\n",
    "  return(ganancia_testing)\n",
    "}\n"
   ]
  },
  {
   "cell_type": "code",
   "execution_count": 10,
   "metadata": {
    "id": "1PoSYV0NlQq7"
   },
   "outputs": [],
   "source": [
    "ArbolesCrossValidation <- function(param_rpart, qfolds, pagrupa, semilla) {\n",
    "  # generalmente  c(1, 1, 1, 1, 1 )  cinco unos\n",
    "  divi <- rep(1, qfolds)\n",
    "\n",
    "  # particiono en dataset en folds\n",
    "  particionar(dataset, divi, seed= semilla, agrupa= pagrupa)\n",
    "\n",
    "  ganancias <- mcmapply(ArbolSimple,\n",
    "    seq(qfolds), # 1 2 3 4 5\n",
    "    MoreArgs= list(param_rpart),\n",
    "    SIMPLIFY= FALSE,\n",
    "    mc.cores= detectCores()\n",
    "  )\n",
    "\n",
    "  dataset[, fold := NULL]\n",
    "\n",
    "  # devuelvo la primer ganancia y el promedio\n",
    "  # promedio las ganancias\n",
    "  ganancia_promedio <- mean(unlist(ganancias))\n",
    "  # aqui normalizo la ganancia\n",
    "  ganancia_promedio_normalizada <- ganancia_promedio * qfolds\n",
    "\n",
    "  return(ganancia_promedio_normalizada)\n",
    "}\n"
   ]
  },
  {
   "cell_type": "code",
   "execution_count": 11,
   "metadata": {
    "id": "wWVKBCNilUxE"
   },
   "outputs": [],
   "source": [
    "# esta funcion solo puede recibir los parametros que se estan optimizando\n",
    "# el resto de los parametros, lamentablemente se pasan como variables globales\n",
    "\n",
    "EstimarGanancia <- function(x) {\n",
    "  message(format(Sys.time(), \"%a %b %d %X %Y\"))\n",
    "  GLOBAL_iteracion <<- GLOBAL_iteracion + 1\n",
    "\n",
    "  xval_folds <- 5\n",
    "  # param= x los hiperparametros del arbol\n",
    "  # qfolds= xval_folds  la cantidad de folds\n",
    "  ganancia <- ArbolesCrossValidation(\n",
    "    param_rpart= x,\n",
    "    qfolds= xval_folds,\n",
    "    pagrupa= \"clase_ternaria\",\n",
    "    semilla= PARAM$semilla_primigenia\n",
    "  )\n",
    "\n",
    "  return(ganancia)\n",
    "}\n"
   ]
  },
  {
   "cell_type": "code",
   "execution_count": 12,
   "metadata": {
    "id": "IALv-toylgt0"
   },
   "outputs": [],
   "source": [
    "# lectura del dataset\n",
    "dataset <- fread(\"/content/datasets/dataset_pequeno.csv\")"
   ]
  },
  {
   "cell_type": "code",
   "execution_count": 13,
   "metadata": {
    "id": "l-0H-PQ9lzJ-"
   },
   "outputs": [],
   "source": [
    "\n",
    "archivo_log <- \"BO_log.txt\"\n",
    "archivo_BO <- \"bayesian.RDATA\"\n",
    "\n",
    "# leo si ya existe el log\n",
    "#  para retomar en caso que se se corte el programa\n",
    "GLOBAL_iteracion <- 0\n",
    "GLOBAL_mejor <- -Inf\n",
    "\n",
    "if (file.exists(archivo_log)) {\n",
    "  tabla_log <- fread(archivo_log)\n",
    "  GLOBAL_iteracion <- nrow(tabla_log)\n",
    "  GLOBAL_mejor <- tabla_log[, max(ganancia)]\n",
    "}\n",
    "\n"
   ]
  },
  {
   "cell_type": "code",
   "execution_count": 14,
   "metadata": {
    "id": "HseppAV1l1bF"
   },
   "outputs": [],
   "source": [
    "\n",
    "# Aqui comienza la configuracion de la Bayesian Optimization\n",
    "\n",
    "funcion_optimizar <- EstimarGanancia\n",
    "\n",
    "configureMlr(show.learner.output= FALSE)\n",
    "\n",
    "# configuro la busqueda bayesiana,\n",
    "#  los hiperparametros que se van a optimizar\n",
    "# por favor, no desesperarse por lo complejo\n",
    "# minimize= FALSE estoy Maximizando la ganancia\n",
    "obj.fun <- makeSingleObjectiveFunction(\n",
    "  fn= funcion_optimizar,\n",
    "  minimize= FALSE,\n",
    "  noisy= TRUE,\n",
    "  par.set= PARAM$hs,\n",
    "  has.simple.signature= FALSE\n",
    ")\n",
    "\n",
    "ctrl <- makeMBOControl(\n",
    "  save.on.disk.at.time= 600,\n",
    "  save.file.path= archivo_BO\n",
    ")\n",
    "\n",
    "ctrl <- setMBOControlTermination(ctrl, iters= PARAM$BO_iter)\n",
    "ctrl <- setMBOControlInfill(ctrl, crit= makeMBOInfillCritEI())\n",
    "\n",
    "surr.km <- makeLearner(\"regr.km\",\n",
    "  predict.type= \"se\",\n",
    "  covtype= \"matern3_2\", control= list(trace= TRUE)\n",
    ")\n"
   ]
  },
  {
   "cell_type": "code",
   "execution_count": 15,
   "metadata": {
    "id": "TAr8HSCLl5p7"
   },
   "outputs": [
    {
     "name": "stderr",
     "output_type": "stream",
     "text": [
      "Computing y column(s) for design. Not provided.\n",
      "\n",
      "Sat Jul 19 13:56:06 2025\n",
      "\n",
      "Sat Jul 19 13:58:52 2025\n",
      "\n",
      "Sat Jul 19 14:03:21 2025\n",
      "\n",
      "Sat Jul 19 14:06:03 2025\n",
      "\n",
      "Sat Jul 19 14:07:51 2025\n",
      "\n",
      "Sat Jul 19 14:09:21 2025\n",
      "\n",
      "Sat Jul 19 14:12:35 2025\n",
      "\n",
      "Sat Jul 19 14:15:11 2025\n",
      "\n",
      "Sat Jul 19 14:15:56 2025\n",
      "\n",
      "Sat Jul 19 14:17:22 2025\n",
      "\n",
      "Sat Jul 19 14:20:03 2025\n",
      "\n",
      "Sat Jul 19 14:21:29 2025\n",
      "\n",
      "Sat Jul 19 14:24:12 2025\n",
      "\n",
      "Sat Jul 19 14:25:00 2025\n",
      "\n",
      "Sat Jul 19 14:27:53 2025\n",
      "\n",
      "Sat Jul 19 14:31:10 2025\n",
      "\n",
      "[mbo] 0: cp=-0.232; minsplit=5925; minbucket=1148; maxdepth=13 : y = 4.85e+07 : 166.5 secs : initdesign\n",
      "\n",
      "[mbo] 0: cp=-0.573; minsplit=298; minbucket=4; maxdepth=16 : y = 4.44e+07 : 268.7 secs : initdesign\n",
      "\n",
      "[mbo] 0: cp=-0.361; minsplit=3324; minbucket=1548; maxdepth=11 : y = 4.72e+07 : 161.7 secs : initdesign\n",
      "\n",
      "[mbo] 0: cp=-0.729; minsplit=3810; minbucket=1829; maxdepth=5 : y = 4.72e+07 : 108.3 secs : initdesign\n",
      "\n",
      "[mbo] 0: cp=-0.145; minsplit=4145; minbucket=816; maxdepth=4 : y = 4.83e+07 : 90.4 secs : initdesign\n",
      "\n",
      "[mbo] 0: cp=-0.838; minsplit=1052; minbucket=489; maxdepth=12 : y = 5.03e+07 : 193.4 secs : initdesign\n",
      "\n",
      "[mbo] 0: cp=-0.0365; minsplit=6711; minbucket=3021; maxdepth=16 : y = 4.84e+07 : 156.7 secs : initdesign\n",
      "\n",
      "[mbo] 0: cp=0.0777; minsplit=5246; minbucket=727; maxdepth=14 : y = 0 : 44.9 secs : initdesign\n",
      "\n",
      "[mbo] 0: cp=-0.5; minsplit=7048; minbucket=2089; maxdepth=3 : y = 3.67e+07 : 85.2 secs : initdesign\n",
      "\n",
      "[mbo] 0: cp=-0.675; minsplit=7755; minbucket=1322; maxdepth=20 : y = 4.85e+07 : 161.4 secs : initdesign\n",
      "\n",
      "[mbo] 0: cp=-0.203; minsplit=7589; minbucket=623; maxdepth=3 : y = 3.67e+07 : 86.5 secs : initdesign\n",
      "\n",
      "[mbo] 0: cp=-0.386; minsplit=6073; minbucket=962; maxdepth=10 : y = 4.85e+07 : 162.6 secs : initdesign\n",
      "\n",
      "[mbo] 0: cp=0.0219; minsplit=4735; minbucket=1934; maxdepth=6 : y = 0 : 47.7 secs : initdesign\n",
      "\n",
      "[mbo] 0: cp=-0.947; minsplit=7713; minbucket=562; maxdepth=12 : y = 4.85e+07 : 173.3 secs : initdesign\n",
      "\n",
      "[mbo] 0: cp=-0.223; minsplit=6027; minbucket=488; maxdepth=17 : y = 4.81e+07 : 196.6 secs : initdesign\n",
      "\n",
      "[mbo] 0: cp=-0.189; minsplit=6314; minbucket=212; maxdepth=7 : y = 4.85e+07 : 124.9 secs : initdesign\n",
      "\n",
      "Saved the current state after iteration 1 in the file bayesian.RDATA.\n",
      "\n",
      "Sat Jul 19 14:33:21 2025\n",
      "\n",
      "[mbo] 1: cp=-0.118; minsplit=6311; minbucket=3140; maxdepth=17 : y = 4.83e+07 : 162.3 secs : infill_ei\n",
      "\n",
      "Sat Jul 19 14:36:05 2025\n",
      "\n",
      "[mbo] 2: cp=-0.169; minsplit=2027; minbucket=2; maxdepth=13 : y = 4.87e+07 : 228.7 secs : infill_ei\n",
      "\n",
      "Sat Jul 19 14:39:57 2025\n",
      "\n",
      "[mbo] 3: cp=-0.0575; minsplit=7991; minbucket=3993; maxdepth=20 : y = 4.77e+07 : 157.2 secs : infill_ei\n",
      "\n",
      "Sat Jul 19 14:42:37 2025\n",
      "\n",
      "[mbo] 4: cp=-0.789; minsplit=7122; minbucket=844; maxdepth=16 : y = 4.85e+07 : 172.4 secs : infill_ei\n",
      "\n",
      "Saved the current state after iteration 5 in the file bayesian.RDATA.\n",
      "\n",
      "Sat Jul 19 14:45:35 2025\n",
      "\n",
      "[mbo] 5: cp=-0.144; minsplit=6793; minbucket=12; maxdepth=11 : y = 4.76e+07 : 171.5 secs : infill_ei\n",
      "\n",
      "Sat Jul 19 14:48:29 2025\n",
      "\n",
      "[mbo] 6: cp=-0.866; minsplit=7231; minbucket=1512; maxdepth=8 : y = 4.84e+07 : 133.2 secs : infill_ei\n",
      "\n",
      "Sat Jul 19 14:50:45 2025\n",
      "\n",
      "[mbo] 7: cp=-0.889; minsplit=3677; minbucket=402; maxdepth=19 : y = 4.73e+07 : 222.2 secs : infill_ei\n",
      "\n",
      "Sat Jul 19 14:54:30 2025\n",
      "\n",
      "[mbo] 8: cp=-0.174; minsplit=4684; minbucket=2329; maxdepth=10 : y = 4.7e+07 : 149.2 secs : infill_ei\n",
      "\n",
      "Saved the current state after iteration 9 in the file bayesian.RDATA.\n",
      "\n",
      "Sat Jul 19 14:57:06 2025\n",
      "\n",
      "[mbo] 9: cp=-0.719; minsplit=425; minbucket=15; maxdepth=17 : y = 4.32e+07 : 264.6 secs : infill_ei\n",
      "\n",
      "Sat Jul 19 15:01:33 2025\n",
      "\n",
      "[mbo] 10: cp=-0.812; minsplit=4107; minbucket=6; maxdepth=3 : y = 3.63e+07 : 82.2 secs : infill_ei\n",
      "\n",
      "Sat Jul 19 15:02:59 2025\n",
      "\n",
      "[mbo] 11: cp=-0.845; minsplit=5350; minbucket=2675; maxdepth=14 : y = 4.82e+07 : 165.7 secs : infill_ei\n",
      "\n",
      "Sat Jul 19 15:05:47 2025\n",
      "\n",
      "[mbo] 12: cp=-0.707; minsplit=7996; minbucket=2774; maxdepth=12 : y = 4.82e+07 : 157.6 secs : infill_ei\n",
      "\n",
      "Saved the current state after iteration 13 in the file bayesian.RDATA.\n",
      "\n",
      "Sat Jul 19 15:08:33 2025\n",
      "\n",
      "[mbo] 13: cp=-0.906; minsplit=1830; minbucket=913; maxdepth=11 : y = 5e+07 : 185.8 secs : infill_ei\n",
      "\n",
      "Sat Jul 19 15:11:41 2025\n",
      "\n",
      "[mbo] 14: cp=-0.299; minsplit=5393; minbucket=2; maxdepth=13 : y = 4.76e+07 : 202.2 secs : infill_ei\n",
      "\n",
      "Sat Jul 19 15:15:06 2025\n",
      "\n",
      "[mbo] 15: cp=-0.653; minsplit=5060; minbucket=1240; maxdepth=10 : y = 4.82e+07 : 160.3 secs : infill_ei\n",
      "\n",
      "Sat Jul 19 15:17:49 2025\n",
      "\n",
      "[mbo] 16: cp=-0.164; minsplit=451; minbucket=4; maxdepth=7 : y = 4.71e+07 : 140.9 secs : infill_ei\n",
      "\n",
      "Saved the current state after iteration 17 in the file bayesian.RDATA.\n",
      "\n",
      "Sat Jul 19 15:20:17 2025\n",
      "\n",
      "[mbo] 17: cp=-0.409; minsplit=4752; minbucket=48; maxdepth=19 : y = 4.59e+07 : 254.0 secs : infill_ei\n",
      "\n",
      "Sat Jul 19 15:24:34 2025\n",
      "\n",
      "[mbo] 18: cp=-0.0751; minsplit=5364; minbucket=2582; maxdepth=17 : y = 4.82e+07 : 168.9 secs : infill_ei\n",
      "\n",
      "Sat Jul 19 15:27:25 2025\n",
      "\n",
      "[mbo] 19: cp=-0.876; minsplit=7993; minbucket=581; maxdepth=13 : y = 4.85e+07 : 176.6 secs : infill_ei\n",
      "\n",
      "Saved the current state after iteration 20 in the file bayesian.RDATA.\n",
      "\n",
      "Sat Jul 19 15:30:28 2025\n",
      "\n",
      "[mbo] 20: cp=-0.762; minsplit=3612; minbucket=1804; maxdepth=12 : y = 4.58e+07 : 170.9 secs : infill_ei\n",
      "\n",
      "Sat Jul 19 15:33:23 2025\n",
      "\n",
      "[mbo] 21: cp=-0.988; minsplit=405; minbucket=201; maxdepth=13 : y = 4.44e+07 : 215.8 secs : infill_ei\n",
      "\n",
      "Sat Jul 19 15:37:02 2025\n",
      "\n",
      "[mbo] 22: cp=-0.936; minsplit=7946; minbucket=3965; maxdepth=9 : y = 4.77e+07 : 141.0 secs : infill_ei\n",
      "\n",
      "Sat Jul 19 15:39:26 2025\n",
      "\n",
      "[mbo] 23: cp=-0.858; minsplit=1634; minbucket=815; maxdepth=15 : y = 5.02e+07 : 196.4 secs : infill_ei\n",
      "\n",
      "Saved the current state after iteration 24 in the file bayesian.RDATA.\n",
      "\n",
      "Sat Jul 19 15:42:48 2025\n",
      "\n",
      "[mbo] 24: cp=-0.189; minsplit=4161; minbucket=2; maxdepth=10 : y = 4.7e+07 : 170.4 secs : infill_ei\n",
      "\n",
      "Sat Jul 19 15:45:41 2025\n",
      "\n",
      "[mbo] 25: cp=-0.167; minsplit=6145; minbucket=1120; maxdepth=15 : y = 4.85e+07 : 179.9 secs : infill_ei\n",
      "\n",
      "Sat Jul 19 15:48:44 2025\n",
      "\n",
      "[mbo] 26: cp=-0.365; minsplit=8000; minbucket=3077; maxdepth=16 : y = 4.82e+07 : 150.7 secs : infill_ei\n",
      "\n",
      "Sat Jul 19 15:51:17 2025\n",
      "\n",
      "[mbo] 27: cp=-0.609; minsplit=7999; minbucket=3172; maxdepth=17 : y = 4.81e+07 : 149.5 secs : infill_ei\n",
      "\n",
      "Saved the current state after iteration 28 in the file bayesian.RDATA.\n",
      "\n",
      "Sat Jul 19 15:53:55 2025\n",
      "\n",
      "[mbo] 28: cp=-0.673; minsplit=7996; minbucket=3988; maxdepth=6 : y = 4.77e+07 : 114.6 secs : infill_ei\n",
      "\n",
      "Sat Jul 19 15:55:52 2025\n",
      "\n",
      "[mbo] 29: cp=-0.0661; minsplit=7998; minbucket=3835; maxdepth=15 : y = 4.78e+07 : 157.1 secs : infill_ei\n",
      "\n",
      "Sat Jul 19 15:58:33 2025\n",
      "\n",
      "[mbo] 30: cp=-0.627; minsplit=7996; minbucket=30; maxdepth=16 : y = 4.72e+07 : 211.8 secs : infill_ei\n",
      "\n",
      "Sat Jul 19 16:02:08 2025\n",
      "\n",
      "[mbo] 31: cp=-0.272; minsplit=6078; minbucket=3039; maxdepth=17 : y = 4.84e+07 : 150.6 secs : infill_ei\n",
      "\n",
      "Saved the current state after iteration 32 in the file bayesian.RDATA.\n",
      "\n",
      "Sat Jul 19 16:04:45 2025\n",
      "\n",
      "[mbo] 32: cp=-0.431; minsplit=5836; minbucket=2896; maxdepth=14 : y = 4.8e+07 : 158.2 secs : infill_ei\n",
      "\n",
      "Sat Jul 19 16:07:26 2025\n",
      "\n",
      "[mbo] 33: cp=-0.535; minsplit=7995; minbucket=1568; maxdepth=20 : y = 4.83e+07 : 156.4 secs : infill_ei\n",
      "\n",
      "Sat Jul 19 16:10:05 2025\n",
      "\n",
      "[mbo] 34: cp=-0.696; minsplit=7988; minbucket=1315; maxdepth=7 : y = 4.85e+07 : 130.0 secs : infill_ei\n",
      "\n",
      "Sat Jul 19 16:12:18 2025\n",
      "\n",
      "[mbo] 35: cp=-0.153; minsplit=5226; minbucket=420; maxdepth=7 : y = 4.85e+07 : 123.5 secs : infill_ei\n",
      "\n",
      "Sat Jul 19 16:14:24 2025\n",
      "\n",
      "[mbo] 36: cp=-0.825; minsplit=7967; minbucket=1793; maxdepth=20 : y = 4.78e+07 : 161.5 secs : infill_ei\n",
      "\n",
      "Saved the current state after iteration 37 in the file bayesian.RDATA.\n",
      "\n",
      "Sat Jul 19 16:17:12 2025\n",
      "\n",
      "[mbo] 37: cp=-0.465; minsplit=7995; minbucket=505; maxdepth=15 : y = 4.84e+07 : 169.7 secs : infill_ei\n",
      "\n",
      "Sat Jul 19 16:20:05 2025\n",
      "\n",
      "[mbo] 38: cp=-1; minsplit=7978; minbucket=2037; maxdepth=7 : y = 4.76e+07 : 127.2 secs : infill_ei\n",
      "\n",
      "Sat Jul 19 16:22:15 2025\n",
      "\n",
      "[mbo] 39: cp=-0.944; minsplit=4181; minbucket=2056; maxdepth=9 : y = 4.77e+07 : 146.1 secs : infill_ei\n",
      "\n",
      "Sat Jul 19 16:24:44 2025\n",
      "\n",
      "[mbo] 40: cp=-1; minsplit=7997; minbucket=3014; maxdepth=18 : y = 4.82e+07 : 146.8 secs : infill_ei\n",
      "\n",
      "Saved the final state in the file bayesian.RDATA\n",
      "\n",
      "Saved the final state in the file bayesian.RDATA\n",
      "\n"
     ]
    }
   ],
   "source": [
    "\n",
    "# inicio la optimizacion bayesiana\n",
    "if (!file.exists(archivo_BO)) {\n",
    "  bayesiana_salida <- mbo(\n",
    "    fun= obj.fun,\n",
    "    learner= surr.km,\n",
    "    control= ctrl\n",
    "  )\n",
    "} else {\n",
    "  bayesiana_salida <- mboContinue(archivo_BO)\n",
    "}\n",
    "# retomo en caso que ya exista\n"
   ]
  },
  {
   "cell_type": "code",
   "execution_count": 16,
   "metadata": {
    "id": "3Yknt3FgoPM4"
   },
   "outputs": [
    {
     "name": "stdout",
     "output_type": "stream",
     "text": [
      "           cp minsplit minbucket maxdepth\n",
      "        <num>    <int>     <int>    <int>\n",
      "1: -0.8376562     1052       489       12\n"
     ]
    }
   ],
   "source": [
    "# almaceno los resultados de la Bayesian Optimization\n",
    "# y capturo los mejores hiperparametros encontrados\n",
    "\n",
    "tb_bayesiana <- as.data.table(bayesiana_salida$opt.path)\n",
    "\n",
    "# ordeno en forma descendente por AUC = y\n",
    "setorder(tb_bayesiana, -y)\n",
    "\n",
    "# grabo para eventualmente poder utilizarlos en OTRA corrida\n",
    "fwrite( tb_bayesiana,\n",
    "  file= \"BO_log.txt\",\n",
    "  sep= \"\\t\"\n",
    ")\n",
    "\n",
    "# los mejores hiperparámetros son los que quedaron en el registro 1 de la tabla\n",
    "PARAM$out$lgbm$mejores_hiperparametros <- tb_bayesiana[\n",
    "  1, # el primero es el de mejor AUC\n",
    "  list(cp, minsplit, minbucket, maxdepth)\n",
    "]\n",
    "\n",
    "print(PARAM$out$lgbm$mejores_hiperparametros)"
   ]
  },
  {
   "cell_type": "code",
   "execution_count": 17,
   "metadata": {
    "id": "0-iLm04FMWPR"
   },
   "outputs": [
    {
     "data": {
      "text/html": [
       "'Sat Jul 19 16:27:23 2025'"
      ],
      "text/latex": [
       "'Sat Jul 19 16:27:23 2025'"
      ],
      "text/markdown": [
       "'Sat Jul 19 16:27:23 2025'"
      ],
      "text/plain": [
       "[1] \"Sat Jul 19 16:27:23 2025\""
      ]
     },
     "metadata": {},
     "output_type": "display_data"
    }
   ],
   "source": [
    "format(Sys.time(), \"%a %b %d %X %Y\")"
   ]
  },
  {
   "cell_type": "markdown",
   "metadata": {
    "id": "1nUDGTieOym3"
   },
   "source": [
    "\n",
    "\n",
    "---\n",
    "\n"
   ]
  },
  {
   "cell_type": "code",
   "execution_count": null,
   "metadata": {},
   "outputs": [],
   "source": []
  }
 ],
 "metadata": {
  "colab": {
   "provenance": []
  },
  "kernelspec": {
   "display_name": "R",
   "language": "R",
   "name": "ir"
  },
  "language_info": {
   "codemirror_mode": "r",
   "file_extension": ".r",
   "mimetype": "text/x-r-source",
   "name": "R",
   "pygments_lexer": "r",
   "version": "4.4.3"
  }
 },
 "nbformat": 4,
 "nbformat_minor": 4
}
